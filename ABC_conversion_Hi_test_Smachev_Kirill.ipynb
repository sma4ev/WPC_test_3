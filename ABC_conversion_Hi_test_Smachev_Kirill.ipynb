{
 "cells": [
  {
   "cell_type": "markdown",
   "id": "bcd8470b-1ba5-4b41-81b9-20e8931ee764",
   "metadata": {},
   "source": [
    "# Задание №3: Анализ"
   ]
  },
  {
   "cell_type": "markdown",
   "id": "6c83fac1-f558-46e3-b564-2ca2c98171cf",
   "metadata": {},
   "source": [
    "# Проверим стат. значимость разницы конверсий в платящих пользователей в трех группах"
   ]
  },
  {
   "cell_type": "code",
   "execution_count": null,
   "id": "7f33be9a-de38-4455-9697-9a366ecea9fe",
   "metadata": {},
   "outputs": [],
   "source": [
    "# импортируем библиотеки\n",
    "import numpy as np\n",
    "from scipy.stats import chi2_contingency"
   ]
  },
  {
   "cell_type": "markdown",
   "id": "443e545c-e170-4bd0-9276-d341d081d55d",
   "metadata": {},
   "source": [
    "Создадим массив: количество платящих и не платящих пользователей в каждой группе."
   ]
  },
  {
   "cell_type": "code",
   "execution_count": null,
   "id": "d2283ffb-b335-4f63-94cf-0d1921fcbfb1",
   "metadata": {},
   "outputs": [],
   "source": [
    "data = np.array([\n",
    "    [90, 9910],  # Группа A\n",
    "    [80, 9920],  # Группа B\n",
    "    [70, 9930]   # Группа C\n",
    "])"
   ]
  },
  {
   "cell_type": "markdown",
   "id": "0b9f3a7d-932c-4749-87a6-b31fb0418ddf",
   "metadata": {},
   "source": [
    "Проведем Хи-квадрат тест."
   ]
  },
  {
   "cell_type": "code",
   "execution_count": 10,
   "id": "6680350e-5436-4620-9f4d-f4acea8a428f",
   "metadata": {},
   "outputs": [
    {
     "name": "stdout",
     "output_type": "stream",
     "text": [
      "Chi-squared Test Statistic: 2.52\n",
      "Таблица ожидаемых частот (если бы различий не было):\n",
      "[[  80. 9920.]\n",
      " [  80. 9920.]\n",
      " [  80. 9920.]]\n",
      "p-value: 0.284\n"
     ]
    }
   ],
   "source": [
    "# запишем итоговые параметрв теста\n",
    "chi2, p, dof, expected = chi2_contingency(data)\n",
    "\n",
    "# выведем результаты на экран\n",
    "print(\"Chi-squared Test Statistic:\", chi2.round(2))\n",
    "print(\"Таблица ожидаемых частот (если бы различий не было):\")\n",
    "print(expected)\n",
    "print(\"p-value:\", p.round(3))"
   ]
  },
  {
   "cell_type": "markdown",
   "id": "32622ec8-374b-4498-bb72-2e9c6012a0c8",
   "metadata": {},
   "source": [
    "Интерпретация результата, выбранный уровень стат. значимости - 5%."
   ]
  },
  {
   "cell_type": "code",
   "execution_count": 11,
   "id": "69869b1f-9c0e-4aa1-a2da-38933cf1d688",
   "metadata": {},
   "outputs": [
    {
     "name": "stdout",
     "output_type": "stream",
     "text": [
      "Не отвергаем нулевую гипотезу: нет достаточных доказательств различий между группами.\n"
     ]
    }
   ],
   "source": [
    "if p < 0.05:\n",
    "    print(\"Отвергаем нулевую гипотезу: существуют значимые различия между группами.\")\n",
    "else:\n",
    "    print(\"Не отвергаем нулевую гипотезу: нет достаточных доказательств различий между группами.\")"
   ]
  }
 ],
 "metadata": {
  "kernelspec": {
   "display_name": "Python 3 (ipykernel)",
   "language": "python",
   "name": "python3"
  },
  "language_info": {
   "codemirror_mode": {
    "name": "ipython",
    "version": 3
   },
   "file_extension": ".py",
   "mimetype": "text/x-python",
   "name": "python",
   "nbconvert_exporter": "python",
   "pygments_lexer": "ipython3",
   "version": "3.11.1"
  }
 },
 "nbformat": 4,
 "nbformat_minor": 5
}
